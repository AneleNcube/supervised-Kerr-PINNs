{
 "cells": [
  {
   "cell_type": "markdown",
   "id": "ce30821d",
   "metadata": {},
   "source": [
    "# The QNMs of Kerr black holes"
   ]
  },
  {
   "cell_type": "markdown",
   "id": "791668f5",
   "metadata": {},
   "source": [
    "This notebook compute the quasinormal modes of Kerr black holes: the QN frequencies, the angular and radial functions. We use Leaver's units: M=1/2 here."
   ]
  },
  {
   "cell_type": "code",
   "execution_count": null,
   "id": "67407870",
   "metadata": {},
   "outputs": [],
   "source": [
    "(*We first set the parameters of the Kerr spacetime, the field and \\\n",
    "the mode we're interested in:*) \n",
    "ar = 0.0 ; (*remember Stein's spin is 1/2 Leaver's spin!*)\n",
    "br = Sqrt[1 - 4*ar^2]; \n",
    "rminus = (1 - br)/2; \n",
    "rplus = (1 + br)/2; \n",
    "s = -2; \n",
    "m = 0; \n",
    "l = 3; \n",
    "k1 = 1/2*Abs[m - s]; \n",
    "k2 = 1/2*Abs[m + s]; \n",
    "Alm = l*(l + 1) - s*(s + 1);"
   ]
  },
  {
   "cell_type": "code",
   "execution_count": null,
   "id": "d6a6eafc",
   "metadata": {
    "scrolled": true
   },
   "outputs": [],
   "source": [
    "winit = 0.9403 - 1.8312*I(*This is an initialization for the frequency*)"
   ]
  },
  {
   "cell_type": "code",
   "execution_count": null,
   "id": "4ed3b1ac",
   "metadata": {},
   "outputs": [],
   "source": [
    "(*In the following we compute the continued fraction with 130 terms \\\n",
    "(you can do it with more of course) and recursively re-computing the \\\n",
    "angular separation constant. Seven recursions are enough for this \\\n",
    "value of rotation parameter, as seen in the iterated values; See eqs. \\\n",
    "(18)-(27) in [1]*)\n",
    "\n",
    "ie = 0; \n",
    "While[ie < 100, NITMAX = 150; \n",
    "\n",
    "c0 = 1 - s - I*w - 2*I/br*(w/2 - ar*m); \n",
    "c1 = -4 + 2*I*w*(2 + br) + 4*I/br*(w/2 - ar*m); \n",
    "c2 = s + 3 - 3*I*w - 2*I/br*(w/2 - ar*m); \n",
    "c3 = w^2*(4 + 2*br - ar^2) - 2*ar*m*w - s - 1 + (2 + br)*I*w - Alm + (4*w + 2*I)/br*(w/2 - ar*m); \n",
    "c4 = s + 1 - 2*w^2 - (2*s + 3)*I*w - (4*w + 2*I)/br*(w/2 - ar*m); \n",
    "\n",
    "\\[Gamma] = Function[n, n^2 + (c2 - 3)*n + c4 - c2 + 2];\n",
    "\\[Beta] = Function[n, -2*n^2 + (c1 + 2)*n + c3];\n",
    "\\[Alpha] = Function[n, n^2 + (c0 + 1)*n + c0];\n",
    "\n",
    "Leaver31[w_] := Module[{Rn}, For[{n = NITMAX; Rn = -1.0;}, n > 0,\n",
    "    {\n",
    "     Rn = \\[Gamma][n]/(\\[Beta][n] - \\[Alpha][n]*Rn); n--;}]; Rn]; \n",
    "Leaver33[w_] := \\[Beta][0]/\\[Alpha][0] - Leaver31[w]; \n",
    "\n",
    "wang = FindRoot[Leaver33[w] == 0, {w, winit}][[1]][[2]]; \n",
    "witer[ie] = wang;\n",
    "\n",
    "gammaang = Function[n, 2*ar*wang*(n + k1 + k2 + s)];\n",
    "betaang = Function[n, n*(n - 1) + 2*n*(k1 + k2 + 1 - 2*ar*wang) - (2*ar* wang*(2*k1 + s + 1) - (k1 + k2)*(k1 + k2 + 1)) - (ar^2*wang^2 +s*(s + 1) + Sep)];\n",
    "alphaang = Function[n, -2*(n + 1)*(n + 2*k1 + 1)]; \n",
    " \n",
    "Leaver31Ang[Sep_] := Module[{Rn},\n",
    "   For[{n = NITMAX; Rn = -1.0;},\n",
    "    n > 0,\n",
    "    {\n",
    "     Rn = gammaang[n]/(betaang[n] - alphaang[n]*Rn); n--;}\n",
    "    ]; Rn]; \n",
    "    \n",
    "Leaver33Ang[Sep_] := betaang[0]/alphaang[0] - Leaver31Ang[Sep];\n",
    "Alm = FindRoot[Leaver33Ang[Sep] == 0, {Sep, Alm}][[1]][[2]]; \n",
    "ie = ie + 1];"
   ]
  },
  {
   "cell_type": "code",
   "execution_count": null,
   "id": "e31b0b2c",
   "metadata": {},
   "outputs": [],
   "source": [
    "pr[n_] := NumberForm[n, Infinity, ExponentFunction -> (Null &)]\n",
    "pr[wang*(10^10)/(10^10)] \n",
    "pr[Alm*(10^10)/(10^10)] "
   ]
  },
  {
   "cell_type": "code",
   "execution_count": null,
   "id": "80f3e7e6",
   "metadata": {},
   "outputs": [],
   "source": [
    "Table[witer[n], {n, 0, 10}]"
   ]
  },
  {
   "cell_type": "code",
   "execution_count": null,
   "id": "e4689475",
   "metadata": {},
   "outputs": [],
   "source": [
    "(* obtaining the coefficients of the expansions constructing ansatzes*)\n",
    "\n",
    "Sep = Alm;\n",
    "Nmax = 150; \n",
    "w = wang; \n",
    "sima = (w*rplus - ar*m)/br; \n",
    "ae[0] = 1; \n",
    "ae[1] = -betaang[0]/alphaang[0];\n",
    "i = 1; \n",
    "While[i < Nmax, \n",
    " ae[i + 1] = (-betaang[i]*ae[i] - gammaang[i]*ae[i - 1])/(alphaang[i]); \n",
    "i = i + 1];"
   ]
  },
  {
   "cell_type": "code",
   "execution_count": null,
   "id": "ae86dd9e",
   "metadata": {},
   "outputs": [],
   "source": [
    "G0 = 4 ar^2 (u^2 - 1) \\[Omega]^2 - 4 ar (u^2 - 1) \\[Omega] ((u - 1) Abs[m - s] + (u + 1) Abs[m + s] + 2 (s + 1) u) + 4 (Alm (u^2 - 1) + m^2 + 2 m s u + s ((s + 1) u^2 - 1)) - 2 (u^2 - 1) Abs[m + s]- 2 (u^2 - 1) Abs[m - s] (Abs[m + s] + 1) - (u - 1)^2 Abs[m - s]^2 - (u + 1)^2 Abs[m + s]^2;\n",
    "G1 = -8 ar (u^2 - 1)^2 \\[Omega] - 4 (u^2 - 1) ((u - 1) Abs[m - s] + (u + 1) Abs[m + s] + 2 u);\n",
    "G2 = -4 (u^2 - 1)^2;"
   ]
  },
  {
   "cell_type": "code",
   "execution_count": null,
   "id": "2d584af0",
   "metadata": {},
   "outputs": [],
   "source": [
    "(* derivatives of g[u] w.r.t. u *)\n",
    "g[u_, \\[Omega]_, A_] := Sum[ae[i]*(1 + u)^(i), {i, 0, Nmax - 1}] /. u -> u; (* g[u] *)\n",
    "gu[u_, \\[Omega]_, A_] := Simplify[Dt[g[u, \\[Omega], A], u, Constants -> {\\[Omega]}]]; (* (g^\\[Prime])[u] *)\n",
    "guu[u_, \\[Omega]_, A_] := Simplify[Dt[gu[u, \\[Omega], A], u, Constants -> {\\[Omega]}]]; (* (g^\\[Prime]\\[Prime])[u] *)"
   ]
  },
  {
   "cell_type": "code",
   "execution_count": null,
   "id": "abc104ec",
   "metadata": {},
   "outputs": [],
   "source": [
    "N[G2*guu[u, \\[Omega], A] + G1*gu[u, \\[Omega], A] + G0*g[u, \\[Omega], A] /. {u -> -1, \\[Omega] -> wang, A -> Alm}]\n",
    "GODE = G2*guu[u, \\[Omega], A] + G1*gu[u, \\[Omega], A] + G0*g[u, \\[Omega], A] /. {\\[Omega] -> wang, A -> Alm};"
   ]
  },
  {
   "cell_type": "code",
   "execution_count": null,
   "id": "511861a3",
   "metadata": {},
   "outputs": [],
   "source": [
    "function1 = Table[{u, Re[g[u, \\[Omega], A] /. {\\[Omega] -> wang, A -> Alm}], Im[g[u, \\[Omega], A] /. {\\[Omega] -> wang, A -> Alm}]}, {u, -0.999, 1, .001}]; \n",
    "function1a = Table[{u, Re[GODE /. {\\[Omega] -> wang, A -> Alm}], Im[GODE /. {\\[Omega] -> wang, A -> Alm}]}, {u, -0.999, 1, .001}];(* generate a table of 10000 points in u\\[Element][-1, 1] and g[u]*)\n",
    "Export[\"S_a0.4ell2.0m2.0n2.0.csv\", function1, \"CSV\"]\n",
    "Export[\"GODE_a0.4ell2.0m2.0n2.0.csv\", function1a, \"CSV\"]"
   ]
  },
  {
   "cell_type": "markdown",
   "id": "36827ff9",
   "metadata": {},
   "source": [
    " Radial wavefunctions"
   ]
  },
  {
   "cell_type": "code",
   "execution_count": null,
   "id": "1c189449",
   "metadata": {},
   "outputs": [],
   "source": [
    "Nmax = 150; \n",
    "w = wang;\n",
    "sima = (w*rplus - ar*m)/br; \n",
    "ae[0] = 1; \n",
    "ae[1] = -\\[Beta][0]/\\[Alpha][0]; \n",
    "i = 1; \n",
    "While[i < Nmax, \n",
    "ae[i + 1] = (-\\[Beta][i]*ae[i] - \\[Gamma][i]*ae[i - 1])/(\\[Alpha][i]); \n",
    "i = i + 1];"
   ]
  },
  {
   "cell_type": "code",
   "execution_count": null,
   "id": "e03c2273",
   "metadata": {},
   "outputs": [],
   "source": [
    "F0 = -ar^4 x^2 \\[Omega]^2 - 2 ar^3 m x^2 \\[Omega] + ar^2 (-A x^2 + x^2 (4 (rplus + 1) \\[Omega]^2 + 2 I (rplus + 2) \\[Omega] + 2 I s (\\[Omega] + I) - 2) + x \\[Omega]^2 - \\[Omega]^2) + 2 ar m (rplus x^2 (2 \\[Omega] + I) - x (\\[Omega] + I) - \\[Omega]) + A (x - 1) - I rplus (2 \\[Omega] + I) (x^2 (s - 2 I \\[Omega] + 1) - 2 (s + 1) x + 2 I \\[Omega]) + (s + 1) (x - 2 I \\[Omega]);\n",
    "F1 = 2 ar^4 x^4 (x - I \\[Omega]) - 2 I ar^3 m x^4 + ar^2 x^2 (2 rplus x^2 (-1 + 2 I \\[Omega]) - (s + 3) x^2 + 2 x (s + I \\[Omega] + 2) - 4 I \\[Omega]) + 2 I ar m (x - 1) x^2 + (x - 1) (2 rplus x^2 (1 - 2 I \\[Omega]) + (s + 1) x^2 - 2 (s + 1) x + 2 I \\[Omega]);\n",
    "F2 = ar^4 x^6 - 2 ar^2 (x - 1) x^4 + (x - 1)^2 x^2;"
   ]
  },
  {
   "cell_type": "code",
   "execution_count": null,
   "id": "43cc742a",
   "metadata": {},
   "outputs": [],
   "source": [
    "(* derivatives of f[x] w.r.t. x *)\n",
    "f[x_, \\[Omega]_] := Sum[ae[i]*((rplus/x - rplus)/(rplus/x - rminus))^(i), {i, 0, Nmax - 1}]; (* f[x] *)\n",
    "fx[x_, \\[Omega]_] := Simplify[Dt[f[x, \\[Omega]], x, Constants -> {\\[Omega]}]]; (* (f^\\[Prime])[x] *)\n",
    "fxx[x_, \\[Omega]_] := Simplify[Dt[fx[x, \\[Omega]], x, Constants -> {\\[Omega]}]]; (* (f^\\[Prime]\\[Prime])[x] *)"
   ]
  },
  {
   "cell_type": "code",
   "execution_count": null,
   "id": "2ef8cd0c",
   "metadata": {},
   "outputs": [],
   "source": [
    "N[F2*fxx[x, \\[Omega]] + F1*fx[x, \\[Omega]] + F0*f[x, \\[Omega]] /. {x -> 0.5, \\[Omega] -> wang, A -> Alm}]\n",
    "RODE = F2*fxx[x, \\[Omega]] + F1*fx[x, \\[Omega]] + F0*f[x, \\[Omega]] /. {\\[Omega] -> wang, A -> Alm};"
   ]
  },
  {
   "cell_type": "code",
   "execution_count": null,
   "id": "ae79d980",
   "metadata": {},
   "outputs": [],
   "source": [
    "function2 = Table[{x, Re[f[x, \\[Omega]] /. {\\[Omega] -> wang}], Im[f[x, \\[Omega]] /. {\\[Omega] -> wang}]}, {x, 0.1, 0.999, .001}]; \n",
    "function2a = Table[{x, Re[RODE /. {\\[Omega] -> wang, A -> Alm}], Im[RODE /. {\\[Omega] -> wang, A -> Alm}]}, {x, 0.1, 0.999, .0005}];(* generate a table of 10000 points in x \\[Element] \\[0, 0.95] and f[x]*)\n",
    "Export[\"R_a0.4ell2.0m2.0n2.0.csv\", function2, \"CSV\"]\n",
    "Export[\"RODE_a0.4ell2.0m2.0n2.0.csv\", function2a, \"CSV\"]"
   ]
  },
  {
   "cell_type": "code",
   "execution_count": null,
   "id": "63a5e669",
   "metadata": {},
   "outputs": [],
   "source": [
    "(*A sanity check is to compare with the direct numerical integration of Teukolsky's wavefunction, with the same boundary conditions at the \\\n",
    "horizon:*)"
   ]
  },
  {
   "cell_type": "code",
   "execution_count": null,
   "id": "b3663110",
   "metadata": {},
   "outputs": [],
   "source": [
    "r1 = rplus + 10^(-6) \n",
    "r2 = 150\n",
    "\n",
    "Delta = (r - rplus)*(r - rminus);\n",
    "Kr = w*(r^2 + ar^2) - ar*m;\n",
    "VgLe = 2*I*s*w*r - ar^2*w^2 - Alm + 1/Delta*((r^2 + ar^2)^2*w^2 - 2*ar*m*w*r + ar^2*m^2 + I*s*(ar*m*(2*r - 1) - w*(r^2 - ar^2)));\n",
    "Vg = (Kr^2 - 2*I*s*Kr*(r - 1/2))/Delta + 4*I*s*w*r - Alm + 2*ar*w*m - ar^2*w^2;\n",
    "sol = NDSolve[{Delta*D[y[r], {r, 2}] + (s + 1)*(2*r - 1)*D[y[r], {r, 1}] + Vg*y[r] == 0, \n",
    "   y[r1] == (rplus - rminus)^(-1 - s + I*w + I*sima)*Exp[I*w*r1]*(r1 - rplus)^(-s - I*sima), \n",
    "   Derivative[1][y][r1] == (rplus - rminus)^(-1 - s + I*w + I*sima)*Exp[I*w*r1]*(-s - I*sima)*(r1 - rplus)^(-s - I*sima - 1)}, \n",
    "   y, {r, r1, r2}, AccuracyGoal -> 20, PrecisionGoal -> 20, WorkingPrecision -> 30, MaxSteps -> 340000];\n",
    "   \n",
    "y[10] /. sol "
   ]
  },
  {
   "cell_type": "code",
   "execution_count": null,
   "id": "69cfa6e7",
   "metadata": {},
   "outputs": [],
   "source": []
  }
 ],
 "metadata": {
  "kernelspec": {
   "display_name": "Wolfram Language 13.3",
   "language": "Wolfram Language",
   "name": "wolframlanguage13.3"
  },
  "language_info": {
   "codemirror_mode": "mathematica",
   "file_extension": ".m",
   "mimetype": "application/vnd.wolfram.m",
   "name": "Wolfram Language",
   "pygments_lexer": "mathematica",
   "version": "12.0"
  }
 },
 "nbformat": 4,
 "nbformat_minor": 5
}
